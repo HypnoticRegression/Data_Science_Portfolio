{
 "cells": [
  {
   "cell_type": "code",
   "execution_count": 330,
   "metadata": {},
   "outputs": [],
   "source": [
    "from selenium import webdriver\n",
    "from selenium.webdriver.support.ui import WebDriverWait\n",
    "import pandas as pd\n",
    "import time\n",
    "import random"
   ]
  },
  {
   "cell_type": "code",
   "execution_count": 331,
   "metadata": {},
   "outputs": [
    {
     "name": "stderr",
     "output_type": "stream",
     "text": [
      "C:\\Users\\blayn\\AppData\\Local\\Temp/ipykernel_22424/3715302752.py:2: DeprecationWarning: executable_path has been deprecated, please pass in a Service object\n",
      "  browser = webdriver.Chrome('C:\\WebDrivers\\chromedriver.exe')    # Location of browser\n"
     ]
    }
   ],
   "source": [
    "homepage = \"https://www.xcontest.org\" # The desired website to scrape\n",
    "browser = webdriver.Chrome('C:\\WebDrivers\\chromedriver.exe')    # Location of browser\n",
    "browser.maximize_window()\n",
    "browser.get(homepage)"
   ]
  },
  {
   "cell_type": "code",
   "execution_count": 299,
   "metadata": {},
   "outputs": [
    {
     "name": "stderr",
     "output_type": "stream",
     "text": [
      "C:\\Users\\blayn\\AppData\\Local\\Temp/ipykernel_22424/520962037.py:4: DeprecationWarning: use options instead of chrome_options\n",
      "  driver = webdriver.Chrome(chrome_options=chrome_options)\n"
     ]
    }
   ],
   "source": [
    "# chrome_options = webdriver.ChromeOptions()\n",
    "# prefs = {'download.default_directory' : 'S:/Data/Paragliding_Data/all_flights_boulder_co/'}\n",
    "# chrome_options.add_experimental_option('prefs', prefs)\n",
    "# driver = webdriver.Chrome(chrome_options=chrome_options)"
   ]
  },
  {
   "cell_type": "code",
   "execution_count": 332,
   "metadata": {},
   "outputs": [],
   "source": []
  },
  {
   "cell_type": "code",
   "execution_count": 333,
   "metadata": {},
   "outputs": [],
   "source": [
    "browser.find_element('id','login-username').send_keys(username)\n",
    "browser.find_element('id','login-password').send_keys(password)\n"
   ]
  },
  {
   "cell_type": "code",
   "execution_count": 334,
   "metadata": {},
   "outputs": [],
   "source": [
    "browser.find_element('class name','submit').click()"
   ]
  },
  {
   "cell_type": "code",
   "execution_count": 338,
   "metadata": {},
   "outputs": [],
   "source": [
    "boulder_flights = 'https://www.xcontest.org/world/en/flights-search/?list[sort]=time_start&filter[point]=-105.299912%2040.056157&filter[radius]=10046&filter[mode]=START&filter[date_mode]=dmy&filter[date]=&filter[value_mode]=dst&filter[min_value_dst]=5&filter[catg]=&filter[route_types]=&filter[avg]=&filter[pilot]='\n",
    "browser.get(boulder_flights)"
   ]
  },
  {
   "cell_type": "code",
   "execution_count": 336,
   "metadata": {},
   "outputs": [],
   "source": [
    "data = {'pilot': [], 'date': [], 'start_time': [], 'distance_km': [],\n",
    "        'glider': [], 'airtime': [], 'max_altitude': [], 'max_alt_gain': [], 'max_climb': [],'max_sink':[],'tracklog_length':[]}\n",
    "df = pd.DataFrame(data)\n",
    "\n",
    "df = pd.DataFrame()"
   ]
  },
  {
   "cell_type": "code",
   "execution_count": 339,
   "metadata": {},
   "outputs": [
    {
     "ename": "NoSuchElementException",
     "evalue": "Message: no such element: Unable to locate element: {\"method\":\"xpath\",\"selector\":\"//a[@title='next page']\"}\n  (Session info: chrome=108.0.5359.99)\nStacktrace:\nBacktrace:\n\tOrdinal0 [0x00E1ACD3+2075859]\n\tOrdinal0 [0x00DAEE61+1633889]\n\tOrdinal0 [0x00CAB7BD+571325]\n\tOrdinal0 [0x00CDAC2F+764975]\n\tOrdinal0 [0x00CDAE1B+765467]\n\tOrdinal0 [0x00D0D0F2+970994]\n\tOrdinal0 [0x00CF7364+881508]\n\tOrdinal0 [0x00D0B56A+963946]\n\tOrdinal0 [0x00CF7136+880950]\n\tOrdinal0 [0x00CCFEFD+720637]\n\tOrdinal0 [0x00CD0F3F+724799]\n\tGetHandleVerifier [0x010CEED2+2769538]\n\tGetHandleVerifier [0x010C0D95+2711877]\n\tGetHandleVerifier [0x00EAA03A+521194]\n\tGetHandleVerifier [0x00EA8DA0+516432]\n\tOrdinal0 [0x00DB682C+1665068]\n\tOrdinal0 [0x00DBB128+1683752]\n\tOrdinal0 [0x00DBB215+1683989]\n\tOrdinal0 [0x00DC6484+1729668]\n\tBaseThreadInitThunk [0x75BFFEF9+25]\n\tRtlGetAppContainerNamedObjectPath [0x77637BBE+286]\n\tRtlGetAppContainerNamedObjectPath [0x77637B8E+238]\n",
     "output_type": "error",
     "traceback": [
      "\u001b[1;31m---------------------------------------------------------------------------\u001b[0m",
      "\u001b[1;31mNoSuchElementException\u001b[0m                    Traceback (most recent call last)",
      "\u001b[1;32m~\\AppData\\Local\\Temp/ipykernel_22424/3091011960.py\u001b[0m in \u001b[0;36m<module>\u001b[1;34m\u001b[0m\n\u001b[0;32m     55\u001b[0m         \u001b[0mtime\u001b[0m\u001b[1;33m.\u001b[0m\u001b[0msleep\u001b[0m\u001b[1;33m(\u001b[0m\u001b[0mrandom\u001b[0m\u001b[1;33m.\u001b[0m\u001b[0mrandint\u001b[0m\u001b[1;33m(\u001b[0m\u001b[1;36m5\u001b[0m\u001b[1;33m,\u001b[0m\u001b[1;36m11\u001b[0m\u001b[1;33m)\u001b[0m\u001b[1;33m)\u001b[0m\u001b[1;33m\u001b[0m\u001b[1;33m\u001b[0m\u001b[0m\n\u001b[0;32m     56\u001b[0m \u001b[1;33m\u001b[0m\u001b[0m\n\u001b[1;32m---> 57\u001b[1;33m     \u001b[0mbrowser\u001b[0m\u001b[1;33m.\u001b[0m\u001b[0mfind_element\u001b[0m\u001b[1;33m(\u001b[0m\u001b[1;34m'xpath'\u001b[0m\u001b[1;33m,\u001b[0m\u001b[1;34m\"//a[@title='next page']\"\u001b[0m\u001b[1;33m)\u001b[0m\u001b[1;33m.\u001b[0m\u001b[0mclick\u001b[0m\u001b[1;33m(\u001b[0m\u001b[1;33m)\u001b[0m\u001b[1;33m\u001b[0m\u001b[1;33m\u001b[0m\u001b[0m\n\u001b[0m",
      "\u001b[1;32m~\\AppData\\Local\\Packages\\PythonSoftwareFoundation.Python.3.9_qbz5n2kfra8p0\\LocalCache\\local-packages\\Python39\\site-packages\\selenium\\webdriver\\remote\\webdriver.py\u001b[0m in \u001b[0;36mfind_element\u001b[1;34m(self, by, value)\u001b[0m\n\u001b[0;32m    859\u001b[0m             \u001b[0mvalue\u001b[0m \u001b[1;33m=\u001b[0m \u001b[1;34m'[name=\"%s\"]'\u001b[0m \u001b[1;33m%\u001b[0m \u001b[0mvalue\u001b[0m\u001b[1;33m\u001b[0m\u001b[1;33m\u001b[0m\u001b[0m\n\u001b[0;32m    860\u001b[0m \u001b[1;33m\u001b[0m\u001b[0m\n\u001b[1;32m--> 861\u001b[1;33m         \u001b[1;32mreturn\u001b[0m \u001b[0mself\u001b[0m\u001b[1;33m.\u001b[0m\u001b[0mexecute\u001b[0m\u001b[1;33m(\u001b[0m\u001b[0mCommand\u001b[0m\u001b[1;33m.\u001b[0m\u001b[0mFIND_ELEMENT\u001b[0m\u001b[1;33m,\u001b[0m \u001b[1;33m{\u001b[0m\u001b[1;34m\"using\"\u001b[0m\u001b[1;33m:\u001b[0m \u001b[0mby\u001b[0m\u001b[1;33m,\u001b[0m \u001b[1;34m\"value\"\u001b[0m\u001b[1;33m:\u001b[0m \u001b[0mvalue\u001b[0m\u001b[1;33m}\u001b[0m\u001b[1;33m)\u001b[0m\u001b[1;33m[\u001b[0m\u001b[1;34m\"value\"\u001b[0m\u001b[1;33m]\u001b[0m\u001b[1;33m\u001b[0m\u001b[1;33m\u001b[0m\u001b[0m\n\u001b[0m\u001b[0;32m    862\u001b[0m \u001b[1;33m\u001b[0m\u001b[0m\n\u001b[0;32m    863\u001b[0m     \u001b[1;32mdef\u001b[0m \u001b[0mfind_elements\u001b[0m\u001b[1;33m(\u001b[0m\u001b[0mself\u001b[0m\u001b[1;33m,\u001b[0m \u001b[0mby\u001b[0m\u001b[1;33m=\u001b[0m\u001b[0mBy\u001b[0m\u001b[1;33m.\u001b[0m\u001b[0mID\u001b[0m\u001b[1;33m,\u001b[0m \u001b[0mvalue\u001b[0m\u001b[1;33m:\u001b[0m \u001b[0mOptional\u001b[0m\u001b[1;33m[\u001b[0m\u001b[0mstr\u001b[0m\u001b[1;33m]\u001b[0m \u001b[1;33m=\u001b[0m \u001b[1;32mNone\u001b[0m\u001b[1;33m)\u001b[0m \u001b[1;33m->\u001b[0m \u001b[0mList\u001b[0m\u001b[1;33m[\u001b[0m\u001b[0mWebElement\u001b[0m\u001b[1;33m]\u001b[0m\u001b[1;33m:\u001b[0m\u001b[1;33m\u001b[0m\u001b[1;33m\u001b[0m\u001b[0m\n",
      "\u001b[1;32m~\\AppData\\Local\\Packages\\PythonSoftwareFoundation.Python.3.9_qbz5n2kfra8p0\\LocalCache\\local-packages\\Python39\\site-packages\\selenium\\webdriver\\remote\\webdriver.py\u001b[0m in \u001b[0;36mexecute\u001b[1;34m(self, driver_command, params)\u001b[0m\n\u001b[0;32m    442\u001b[0m         \u001b[0mresponse\u001b[0m \u001b[1;33m=\u001b[0m \u001b[0mself\u001b[0m\u001b[1;33m.\u001b[0m\u001b[0mcommand_executor\u001b[0m\u001b[1;33m.\u001b[0m\u001b[0mexecute\u001b[0m\u001b[1;33m(\u001b[0m\u001b[0mdriver_command\u001b[0m\u001b[1;33m,\u001b[0m \u001b[0mparams\u001b[0m\u001b[1;33m)\u001b[0m\u001b[1;33m\u001b[0m\u001b[1;33m\u001b[0m\u001b[0m\n\u001b[0;32m    443\u001b[0m         \u001b[1;32mif\u001b[0m \u001b[0mresponse\u001b[0m\u001b[1;33m:\u001b[0m\u001b[1;33m\u001b[0m\u001b[1;33m\u001b[0m\u001b[0m\n\u001b[1;32m--> 444\u001b[1;33m             \u001b[0mself\u001b[0m\u001b[1;33m.\u001b[0m\u001b[0merror_handler\u001b[0m\u001b[1;33m.\u001b[0m\u001b[0mcheck_response\u001b[0m\u001b[1;33m(\u001b[0m\u001b[0mresponse\u001b[0m\u001b[1;33m)\u001b[0m\u001b[1;33m\u001b[0m\u001b[1;33m\u001b[0m\u001b[0m\n\u001b[0m\u001b[0;32m    445\u001b[0m             \u001b[0mresponse\u001b[0m\u001b[1;33m[\u001b[0m\u001b[1;34m\"value\"\u001b[0m\u001b[1;33m]\u001b[0m \u001b[1;33m=\u001b[0m \u001b[0mself\u001b[0m\u001b[1;33m.\u001b[0m\u001b[0m_unwrap_value\u001b[0m\u001b[1;33m(\u001b[0m\u001b[0mresponse\u001b[0m\u001b[1;33m.\u001b[0m\u001b[0mget\u001b[0m\u001b[1;33m(\u001b[0m\u001b[1;34m\"value\"\u001b[0m\u001b[1;33m,\u001b[0m \u001b[1;32mNone\u001b[0m\u001b[1;33m)\u001b[0m\u001b[1;33m)\u001b[0m\u001b[1;33m\u001b[0m\u001b[1;33m\u001b[0m\u001b[0m\n\u001b[0;32m    446\u001b[0m             \u001b[1;32mreturn\u001b[0m \u001b[0mresponse\u001b[0m\u001b[1;33m\u001b[0m\u001b[1;33m\u001b[0m\u001b[0m\n",
      "\u001b[1;32m~\\AppData\\Local\\Packages\\PythonSoftwareFoundation.Python.3.9_qbz5n2kfra8p0\\LocalCache\\local-packages\\Python39\\site-packages\\selenium\\webdriver\\remote\\errorhandler.py\u001b[0m in \u001b[0;36mcheck_response\u001b[1;34m(self, response)\u001b[0m\n\u001b[0;32m    247\u001b[0m                 \u001b[0malert_text\u001b[0m \u001b[1;33m=\u001b[0m \u001b[0mvalue\u001b[0m\u001b[1;33m[\u001b[0m\u001b[1;34m\"alert\"\u001b[0m\u001b[1;33m]\u001b[0m\u001b[1;33m.\u001b[0m\u001b[0mget\u001b[0m\u001b[1;33m(\u001b[0m\u001b[1;34m\"text\"\u001b[0m\u001b[1;33m)\u001b[0m\u001b[1;33m\u001b[0m\u001b[1;33m\u001b[0m\u001b[0m\n\u001b[0;32m    248\u001b[0m             \u001b[1;32mraise\u001b[0m \u001b[0mexception_class\u001b[0m\u001b[1;33m(\u001b[0m\u001b[0mmessage\u001b[0m\u001b[1;33m,\u001b[0m \u001b[0mscreen\u001b[0m\u001b[1;33m,\u001b[0m \u001b[0mstacktrace\u001b[0m\u001b[1;33m,\u001b[0m \u001b[0malert_text\u001b[0m\u001b[1;33m)\u001b[0m  \u001b[1;31m# type: ignore[call-arg]  # mypy is not smart enough here\u001b[0m\u001b[1;33m\u001b[0m\u001b[1;33m\u001b[0m\u001b[0m\n\u001b[1;32m--> 249\u001b[1;33m         \u001b[1;32mraise\u001b[0m \u001b[0mexception_class\u001b[0m\u001b[1;33m(\u001b[0m\u001b[0mmessage\u001b[0m\u001b[1;33m,\u001b[0m \u001b[0mscreen\u001b[0m\u001b[1;33m,\u001b[0m \u001b[0mstacktrace\u001b[0m\u001b[1;33m)\u001b[0m\u001b[1;33m\u001b[0m\u001b[1;33m\u001b[0m\u001b[0m\n\u001b[0m",
      "\u001b[1;31mNoSuchElementException\u001b[0m: Message: no such element: Unable to locate element: {\"method\":\"xpath\",\"selector\":\"//a[@title='next page']\"}\n  (Session info: chrome=108.0.5359.99)\nStacktrace:\nBacktrace:\n\tOrdinal0 [0x00E1ACD3+2075859]\n\tOrdinal0 [0x00DAEE61+1633889]\n\tOrdinal0 [0x00CAB7BD+571325]\n\tOrdinal0 [0x00CDAC2F+764975]\n\tOrdinal0 [0x00CDAE1B+765467]\n\tOrdinal0 [0x00D0D0F2+970994]\n\tOrdinal0 [0x00CF7364+881508]\n\tOrdinal0 [0x00D0B56A+963946]\n\tOrdinal0 [0x00CF7136+880950]\n\tOrdinal0 [0x00CCFEFD+720637]\n\tOrdinal0 [0x00CD0F3F+724799]\n\tGetHandleVerifier [0x010CEED2+2769538]\n\tGetHandleVerifier [0x010C0D95+2711877]\n\tGetHandleVerifier [0x00EAA03A+521194]\n\tGetHandleVerifier [0x00EA8DA0+516432]\n\tOrdinal0 [0x00DB682C+1665068]\n\tOrdinal0 [0x00DBB128+1683752]\n\tOrdinal0 [0x00DBB215+1683989]\n\tOrdinal0 [0x00DC6484+1729668]\n\tBaseThreadInitThunk [0x75BFFEF9+25]\n\tRtlGetAppContainerNamedObjectPath [0x77637BBE+286]\n\tRtlGetAppContainerNamedObjectPath [0x77637B8E+238]\n"
     ]
    }
   ],
   "source": [
    "while(True):\n",
    "    currenturl = browser.current_url\n",
    "    row_count = browser.find_elements('xpath','//*[@id=\"content\"]/div[3]/table/tbody/tr')\n",
    "    rc = len(row_count)\n",
    "\n",
    "    for i in range(rc):\n",
    "        i = i + 1\n",
    "        try:\n",
    "            browser.find_element('xpath','//*[@id=\"content\"]/div[3]/table/tbody/tr['+str(i)+']/td[10]').click()\n",
    "            time.sleep(random.randint(5,11))\n",
    "            #Grab flight summary details\n",
    "            pilot = browser.find_element('xpath','//*[@id=\"flight\"]/div[1]/div[1]/table/tbody/tr[1]/td/a').text\n",
    "            date = browser.find_element('xpath','//*[@id=\"flight\"]/div[1]/div[1]/table/tbody/tr[2]/td/a').text\n",
    "            start_time = browser.find_element('xpath','//*[@id=\"flight\"]/div[1]/div[1]/table/tbody/tr[2]/td/em').text\n",
    "            distance_km = browser.find_element('xpath','//*[@id=\"flight\"]/div[1]/div[1]/table/tbody/tr[4]/td[1]/strong').text\n",
    "            glider = browser.find_element('xpath','//*[@id=\"flight\"]/div[1]/div[1]/table/tbody/tr[5]/td/div/span').text\n",
    "            airtime = browser.find_element('xpath','//*[@id=\"flight\"]/div[1]/div[1]/table/tbody/tr[6]/td[1]/span').text\n",
    "            \n",
    "            #The Flight tab menu changes locations based on if the user uploaded flight notes or photos. We'll have to locate it and update our XPaths to get the correct flight info.\n",
    "            flight_data = browser.find_elements('xpath','//*[@id=\"flight\"]/div[1]/div[2]/div/div[1]/a')\n",
    "            flight_tabs = []\n",
    "            for i in range(len(flight_data)):\n",
    "                i += 1\n",
    "                obj = browser.find_element('xpath','//*[@id=\"flight\"]/div[1]/div[2]/div/div[1]/a['+str(i)+']').text\n",
    "                flight_tabs.append(obj)\n",
    "            flight_tab_idx = flight_tabs.index('Flight') + 2\n",
    "            \n",
    "            #Now grab info from flight tab\n",
    "            max_altitude = browser.find_element('xpath','//*[@id=\"flight\"]/div[1]/div[2]/div/div['+str(flight_tab_idx)+']/div/table/tbody/tr[2]/td').text\n",
    "            max_alt_gain = browser.find_element('xpath','//*[@id=\"flight\"]/div[1]/div[2]/div/div['+str(flight_tab_idx)+']/div/table/tbody/tr[3]/td').text\n",
    "            max_climb = browser.find_element('xpath','//*[@id=\"flight\"]/div[1]/div[2]/div/div['+str(flight_tab_idx)+']/div/table/tbody/tr[4]/td').text\n",
    "            max_sink = browser.find_element('xpath','//*[@id=\"flight\"]/div[1]/div[2]/div/div['+str(flight_tab_idx)+']/div/table/tbody/tr[5]/td').text\n",
    "            tracklog_length = browser.find_element('xpath','//*[@id=\"flight\"]/div[1]/div[2]/div/div['+str(flight_tab_idx)+']/div/table/tbody/tr[6]/td').text\n",
    "\n",
    "            #Appending DataFrame with scraped data\n",
    "            df = df.append({\n",
    "            'pilot' : pilot\n",
    "            ,'date' : date\n",
    "            ,'start_time' : start_time\n",
    "            ,'distance_km' : distance_km\n",
    "            ,'glider' : glider\n",
    "            ,'airtime' : airtime\n",
    "            ,'max_altitude_m' : max_altitude\n",
    "            ,'max_alt_gain_m' : max_alt_gain\n",
    "            ,'max_climb_m/s' : max_climb\n",
    "            ,'max_sink_m/s' : max_sink\n",
    "            ,'tracklog_length_km' : tracklog_length\n",
    "            },ignore_index=True)\n",
    "\n",
    "            #Download IGC File for this Flight\n",
    "            browser.find_element('xpath','//*[@id=\"flight\"]/div[1]/div[1]/table/tbody/tr[7]/th[1]/a').click()\n",
    "        except:\n",
    "            continue\n",
    "        browser.get(currenturl)\n",
    "        time.sleep(random.randint(5,11))\n",
    "\n",
    "    browser.find_element('xpath',\"//a[@title='next page']\").click()"
   ]
  },
  {
   "cell_type": "code",
   "execution_count": 301,
   "metadata": {},
   "outputs": [
    {
     "data": {
      "text/plain": [
       "(66, 11)"
      ]
     },
     "execution_count": 301,
     "metadata": {},
     "output_type": "execute_result"
    }
   ],
   "source": [
    "df.shape"
   ]
  },
  {
   "cell_type": "code",
   "execution_count": 281,
   "metadata": {},
   "outputs": [],
   "source": [
    "browser.quit()"
   ]
  }
 ],
 "metadata": {
  "kernelspec": {
   "display_name": "Python 3.9.13 64-bit (microsoft store)",
   "language": "python",
   "name": "python3"
  },
  "language_info": {
   "codemirror_mode": {
    "name": "ipython",
    "version": 3
   },
   "file_extension": ".py",
   "mimetype": "text/x-python",
   "name": "python",
   "nbconvert_exporter": "python",
   "pygments_lexer": "ipython3",
   "version": "3.9.13"
  },
  "orig_nbformat": 4,
  "vscode": {
   "interpreter": {
    "hash": "e4602dfd019b81c66426dc3780b71d578947359ee1c950d0a1a54f627ce610e8"
   }
  }
 },
 "nbformat": 4,
 "nbformat_minor": 2
}
